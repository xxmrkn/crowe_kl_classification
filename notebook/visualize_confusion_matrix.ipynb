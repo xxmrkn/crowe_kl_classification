{
 "cells": [
  {
   "cell_type": "code",
   "execution_count": 16,
   "metadata": {},
   "outputs": [],
   "source": [
    "import seaborn as sns\n",
    "import pickle\n",
    "import numpy as np\n",
    "import matplotlib.pyplot as plt\n",
    "import pandas as pd\n",
    "from sklearn.metrics import classification_report\n",
    "\n",
    "PATH = \"path\"\n",
    "MODEL = \"model\"\n",
    "FOLD = 4\n",
    "EPOCH = 100\n"
   ]
  },
  {
   "cell_type": "code",
   "execution_count": 17,
   "metadata": {},
   "outputs": [
    {
     "name": "stdout",
     "output_type": "stream",
     "text": [
      "[[32  5  1  0  0  0  0]\n",
      " [12  5  1  0  0  0  0]\n",
      " [ 1  4  4  5  0  0  0]\n",
      " [ 0  2  1 32  0  1  0]\n",
      " [ 0  0  0  1  3  1  0]\n",
      " [ 0  0  0  1  1  2  0]\n",
      " [ 0  0  0  0  0  1  2]]\n",
      "taikaku1:80, taikaku2:32, taikaku_total:112\n",
      "dataset_size:118, other1:38, other2:6\n",
      "\n",
      "normal_acc:0.6779661016949152, neighbor_acc:0.9491525423728814\n",
      "taikaku1:80, taikaku2:112\n"
     ]
    }
   ],
   "source": [
    "def acc(matrix,dataset_size):\n",
    "        taikaku1 = sum(np.diag(matrix)) #対角成分\n",
    "        taikaku2 = sum(np.diag(matrix, k=1)) + sum(np.diag(matrix, k=-1)) #対角成分の両サイド\n",
    "        other1 = dataset_size-taikaku1 #normal\n",
    "        other2 = dataset_size-taikaku1-taikaku2 #1-neighbor\n",
    "        \n",
    "        print(f'taikaku1:{taikaku1}, taikaku2:{taikaku2}, taikaku_total:{taikaku1+taikaku2}')\n",
    "        print(f'dataset_size:{dataset_size}, other1:{other1}, other2:{other2}')\n",
    "        return taikaku1/dataset_size,(taikaku1+taikaku2)/dataset_size,taikaku1,taikaku1+taikaku2\n",
    "\n",
    "matrix = np.loadtxt(PATH, dtype=int)\n",
    "print(matrix)\n",
    "\n",
    "normal_acc, neighbor_acc, taikaku1,taikaku2 = acc(matrix,np.sum(matrix))\n",
    "print()\n",
    "\n",
    "print(f'normal_acc:{normal_acc}, neighbor_acc:{neighbor_acc}')\n",
    "print(f'taikaku1:{taikaku1}, taikaku2:{taikaku2}')"
   ]
  },
  {
   "cell_type": "code",
   "execution_count": null,
   "metadata": {},
   "outputs": [],
   "source": [
    "sns.set(font_scale = 2.5)\n",
    "cm = pd.DataFrame(data=matrix, \n",
    "                  index=[], \n",
    "                  columns=[])\n",
    "\n",
    "plt.figure(figsize=(15, 15))\n",
    "\n",
    "sns.heatmap(cm,\n",
    "            square=True, \n",
    "            cbar=True,\n",
    "            annot=True, \n",
    "            cmap='Blues',\n",
    "            fmt='d',\n",
    "            vmax=40,\n",
    "            vmin=0,\n",
    "            center=19,\n",
    "            annot_kws={\"size\":20})\n",
    "\n",
    "plt.title(f'{MODEL}   {FOLD}Fold  {EPOCH}Epoch\\nNormal-Acc: {normal_acc:.4f}'\n",
    "          f'({taikaku1}/{np.sum(matrix)})\\n1Neighbor-Acc: {neighbor_acc:.4f}  ({taikaku2}/{np.sum(matrix)})')\n",
    "plt.yticks(rotation=0)\n",
    "plt.xticks(rotation=45)\n",
    "plt.xlabel(\"Predicted Label\", fontsize=30, rotation=0)\n",
    "plt.ylabel(\"True Label\", fontsize=30)\n",
    "plt.subplots_adjust(left=0.1, right=0.95, bottom=0.1, top=0.95)"
   ]
  },
  {
   "cell_type": "code",
   "execution_count": null,
   "metadata": {},
   "outputs": [],
   "source": []
  }
 ],
 "metadata": {
  "kernelspec": {
   "display_name": "Python 3.10.6 64-bit",
   "language": "python",
   "name": "python3"
  },
  "language_info": {
   "name": "python",
   "version": "3.10.6"
  },
  "orig_nbformat": 4,
  "vscode": {
   "interpreter": {
    "hash": "aee8b7b246df8f9039afb4144a1f6fd8d2ca17a180786b69acc140d282b71a49"
   }
  }
 },
 "nbformat": 4,
 "nbformat_minor": 2
}
